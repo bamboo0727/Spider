{
 "cells": [
  {
   "cell_type": "code",
   "execution_count": 1,
   "metadata": {},
   "outputs": [],
   "source": [
    "from bs4 import BeautifulSoup\n",
    "from urllib.request import urlopen\n",
    "import re\n",
    "import random"
   ]
  },
  {
   "cell_type": "code",
   "execution_count": 2,
   "metadata": {},
   "outputs": [],
   "source": [
    "base_url = \"https://baike.baidu.com\"\n",
    "\n",
    "his = [\"/item/%E7%BD%91%E7%BB%9C%E7%88%AC%E8%99%AB\"]\n",
    "url = base_url + his[-1]"
   ]
  },
  {
   "cell_type": "code",
   "execution_count": 3,
   "metadata": {},
   "outputs": [
    {
     "name": "stdout",
     "output_type": "stream",
     "text": [
      "网络爬虫 url /item/%E7%BD%91%E7%BB%9C%E7%88%AC%E8%99%AB\n"
     ]
    }
   ],
   "source": [
    "html = urlopen(url).read().decode('utf-8')\n",
    "\n",
    "soup = BeautifulSoup(html,features='lxml')\n",
    "print(soup.find('h1').get_text(),'url',his[-1])"
   ]
  },
  {
   "cell_type": "code",
   "execution_count": 4,
   "metadata": {},
   "outputs": [
    {
     "name": "stdout",
     "output_type": "stream",
     "text": [
      "['/item/%E7%BD%91%E7%BB%9C%E7%88%AC%E8%99%AB', '/item/%E7%BD%91%E7%BB%9C%E7%AE%A1%E7%90%86%E5%91%98']\n"
     ]
    }
   ],
   "source": [
    "# find valid urls\n",
    "sub_urls=soup.find_all('a',{'target':'_blank','href':re.compile('/item/(%.{2})+$')})\n",
    "\n",
    "if len(sub_urls)!=0:\n",
    "    his.append(random.sample(sub_urls,1)[0][\"href\"])\n",
    "else:\n",
    "    # no valid sub link found\n",
    "    his.pop()\n",
    "print(his)\n"
   ]
  },
  {
   "cell_type": "code",
   "execution_count": null,
   "metadata": {},
   "outputs": [],
   "source": []
  },
  {
   "cell_type": "code",
   "execution_count": 5,
   "metadata": {},
   "outputs": [
    {
     "name": "stdout",
     "output_type": "stream",
     "text": [
      "网络爬虫 url /item/%E7%BD%91%E7%BB%9C%E7%88%AC%E8%99%AB\n",
      "['/item/%E7%BD%91%E7%BB%9C%E7%88%AC%E8%99%AB', '/item/%E7%BD%91%E7%BB%9C%E6%8B%93%E6%89%91']\n",
      "网络拓扑 url /item/%E7%BD%91%E7%BB%9C%E6%8B%93%E6%89%91\n",
      "['/item/%E7%BD%91%E7%BB%9C%E7%88%AC%E8%99%AB', '/item/%E7%BD%91%E7%BB%9C%E6%8B%93%E6%89%91', '/item/%E7%BD%91%E7%BB%9C%E6%8B%93%E6%89%91%E7%BB%93%E6%9E%84']\n",
      "网络拓扑结构 url /item/%E7%BD%91%E7%BB%9C%E6%8B%93%E6%89%91%E7%BB%93%E6%9E%84\n",
      "['/item/%E7%BD%91%E7%BB%9C%E7%88%AC%E8%99%AB', '/item/%E7%BD%91%E7%BB%9C%E6%8B%93%E6%89%91', '/item/%E7%BD%91%E7%BB%9C%E6%8B%93%E6%89%91%E7%BB%93%E6%9E%84', '/item/%E5%AD%90%E7%BD%91']\n",
      "子网 url /item/%E5%AD%90%E7%BD%91\n",
      "['/item/%E7%BD%91%E7%BB%9C%E7%88%AC%E8%99%AB', '/item/%E7%BD%91%E7%BB%9C%E6%8B%93%E6%89%91', '/item/%E7%BD%91%E7%BB%9C%E6%8B%93%E6%89%91%E7%BB%93%E6%9E%84', '/item/%E5%AD%90%E7%BD%91', '/item/%E5%B9%BF%E6%92%AD%E5%9C%B0%E5%9D%80']\n",
      "广播地址 url /item/%E5%B9%BF%E6%92%AD%E5%9C%B0%E5%9D%80\n",
      "['/item/%E7%BD%91%E7%BB%9C%E7%88%AC%E8%99%AB', '/item/%E7%BD%91%E7%BB%9C%E6%8B%93%E6%89%91', '/item/%E7%BD%91%E7%BB%9C%E6%8B%93%E6%89%91%E7%BB%93%E6%9E%84', '/item/%E5%AD%90%E7%BD%91', '/item/%E5%B9%BF%E6%92%AD%E5%9C%B0%E5%9D%80', '/item/%E7%89%A9%E7%90%86%E7%BD%91%E7%BB%9C']\n",
      "物理网络 url /item/%E7%89%A9%E7%90%86%E7%BD%91%E7%BB%9C\n",
      "['/item/%E7%BD%91%E7%BB%9C%E7%88%AC%E8%99%AB', '/item/%E7%BD%91%E7%BB%9C%E6%8B%93%E6%89%91', '/item/%E7%BD%91%E7%BB%9C%E6%8B%93%E6%89%91%E7%BB%93%E6%9E%84', '/item/%E5%AD%90%E7%BD%91', '/item/%E5%B9%BF%E6%92%AD%E5%9C%B0%E5%9D%80', '/item/%E7%89%A9%E7%90%86%E7%BD%91%E7%BB%9C', '/item/%E9%80%BB%E8%BE%91%E7%BD%91%E7%BB%9C']\n",
      "逻辑网络 url /item/%E9%80%BB%E8%BE%91%E7%BD%91%E7%BB%9C\n",
      "['/item/%E7%BD%91%E7%BB%9C%E7%88%AC%E8%99%AB', '/item/%E7%BD%91%E7%BB%9C%E6%8B%93%E6%89%91', '/item/%E7%BD%91%E7%BB%9C%E6%8B%93%E6%89%91%E7%BB%93%E6%9E%84', '/item/%E5%AD%90%E7%BD%91', '/item/%E5%B9%BF%E6%92%AD%E5%9C%B0%E5%9D%80', '/item/%E7%89%A9%E7%90%86%E7%BD%91%E7%BB%9C', '/item/%E9%80%BB%E8%BE%91%E7%BD%91%E7%BB%9C', '/item/%E5%AD%90%E7%BD%91']\n",
      "子网 url /item/%E5%AD%90%E7%BD%91\n",
      "['/item/%E7%BD%91%E7%BB%9C%E7%88%AC%E8%99%AB', '/item/%E7%BD%91%E7%BB%9C%E6%8B%93%E6%89%91', '/item/%E7%BD%91%E7%BB%9C%E6%8B%93%E6%89%91%E7%BB%93%E6%9E%84', '/item/%E5%AD%90%E7%BD%91', '/item/%E5%B9%BF%E6%92%AD%E5%9C%B0%E5%9D%80', '/item/%E7%89%A9%E7%90%86%E7%BD%91%E7%BB%9C', '/item/%E9%80%BB%E8%BE%91%E7%BD%91%E7%BB%9C', '/item/%E5%AD%90%E7%BD%91', '/item/%E7%BD%91%E7%BB%9C%E5%8F%B7']\n",
      "网络号 url /item/%E7%BD%91%E7%BB%9C%E5%8F%B7\n",
      "['/item/%E7%BD%91%E7%BB%9C%E7%88%AC%E8%99%AB', '/item/%E7%BD%91%E7%BB%9C%E6%8B%93%E6%89%91', '/item/%E7%BD%91%E7%BB%9C%E6%8B%93%E6%89%91%E7%BB%93%E6%9E%84', '/item/%E5%AD%90%E7%BD%91', '/item/%E5%B9%BF%E6%92%AD%E5%9C%B0%E5%9D%80', '/item/%E7%89%A9%E7%90%86%E7%BD%91%E7%BB%9C', '/item/%E9%80%BB%E8%BE%91%E7%BD%91%E7%BB%9C', '/item/%E5%AD%90%E7%BD%91', '/item/%E7%BD%91%E7%BB%9C%E5%8F%B7', '/item/%E4%B8%93%E4%B8%9A%E7%9F%A5%E8%AF%86']\n",
      "专业知识 url /item/%E4%B8%93%E4%B8%9A%E7%9F%A5%E8%AF%86\n",
      "['/item/%E7%BD%91%E7%BB%9C%E7%88%AC%E8%99%AB', '/item/%E7%BD%91%E7%BB%9C%E6%8B%93%E6%89%91', '/item/%E7%BD%91%E7%BB%9C%E6%8B%93%E6%89%91%E7%BB%93%E6%9E%84', '/item/%E5%AD%90%E7%BD%91', '/item/%E5%B9%BF%E6%92%AD%E5%9C%B0%E5%9D%80', '/item/%E7%89%A9%E7%90%86%E7%BD%91%E7%BB%9C', '/item/%E9%80%BB%E8%BE%91%E7%BD%91%E7%BB%9C', '/item/%E5%AD%90%E7%BD%91', '/item/%E7%BD%91%E7%BB%9C%E5%8F%B7', '/item/%E4%B8%93%E4%B8%9A%E7%9F%A5%E8%AF%86', '/item/%E5%9B%A0%E7%89%B9%E7%BD%91']\n",
      "互联网 url /item/%E5%9B%A0%E7%89%B9%E7%BD%91\n",
      "['/item/%E7%BD%91%E7%BB%9C%E7%88%AC%E8%99%AB', '/item/%E7%BD%91%E7%BB%9C%E6%8B%93%E6%89%91', '/item/%E7%BD%91%E7%BB%9C%E6%8B%93%E6%89%91%E7%BB%93%E6%9E%84', '/item/%E5%AD%90%E7%BD%91', '/item/%E5%B9%BF%E6%92%AD%E5%9C%B0%E5%9D%80', '/item/%E7%89%A9%E7%90%86%E7%BD%91%E7%BB%9C', '/item/%E9%80%BB%E8%BE%91%E7%BD%91%E7%BB%9C', '/item/%E5%AD%90%E7%BD%91', '/item/%E7%BD%91%E7%BB%9C%E5%8F%B7', '/item/%E4%B8%93%E4%B8%9A%E7%9F%A5%E8%AF%86', '/item/%E5%9B%A0%E7%89%B9%E7%BD%91', '/item/%E7%BE%8E%E5%9B%BD%E5%9B%BD%E5%AE%B6%E7%A7%91%E5%AD%A6%E5%9F%BA%E9%87%91%E4%BC%9A']\n",
      "美国国家科学基金会 url /item/%E7%BE%8E%E5%9B%BD%E5%9B%BD%E5%AE%B6%E7%A7%91%E5%AD%A6%E5%9F%BA%E9%87%91%E4%BC%9A\n",
      "['/item/%E7%BD%91%E7%BB%9C%E7%88%AC%E8%99%AB', '/item/%E7%BD%91%E7%BB%9C%E6%8B%93%E6%89%91', '/item/%E7%BD%91%E7%BB%9C%E6%8B%93%E6%89%91%E7%BB%93%E6%9E%84', '/item/%E5%AD%90%E7%BD%91', '/item/%E5%B9%BF%E6%92%AD%E5%9C%B0%E5%9D%80', '/item/%E7%89%A9%E7%90%86%E7%BD%91%E7%BB%9C', '/item/%E9%80%BB%E8%BE%91%E7%BD%91%E7%BB%9C', '/item/%E5%AD%90%E7%BD%91', '/item/%E7%BD%91%E7%BB%9C%E5%8F%B7', '/item/%E4%B8%93%E4%B8%9A%E7%9F%A5%E8%AF%86', '/item/%E5%9B%A0%E7%89%B9%E7%BD%91', '/item/%E7%BE%8E%E5%9B%BD%E5%9B%BD%E5%AE%B6%E7%A7%91%E5%AD%A6%E5%9F%BA%E9%87%91%E4%BC%9A', '/item/%E5%9F%BA%E7%A1%80%E7%A0%94%E7%A9%B6']\n",
      "基础科学研究 url /item/%E5%9F%BA%E7%A1%80%E7%A0%94%E7%A9%B6\n",
      "['/item/%E7%BD%91%E7%BB%9C%E7%88%AC%E8%99%AB', '/item/%E7%BD%91%E7%BB%9C%E6%8B%93%E6%89%91', '/item/%E7%BD%91%E7%BB%9C%E6%8B%93%E6%89%91%E7%BB%93%E6%9E%84', '/item/%E5%AD%90%E7%BD%91', '/item/%E5%B9%BF%E6%92%AD%E5%9C%B0%E5%9D%80', '/item/%E7%89%A9%E7%90%86%E7%BD%91%E7%BB%9C', '/item/%E9%80%BB%E8%BE%91%E7%BD%91%E7%BB%9C', '/item/%E5%AD%90%E7%BD%91', '/item/%E7%BD%91%E7%BB%9C%E5%8F%B7', '/item/%E4%B8%93%E4%B8%9A%E7%9F%A5%E8%AF%86', '/item/%E5%9B%A0%E7%89%B9%E7%BD%91', '/item/%E7%BE%8E%E5%9B%BD%E5%9B%BD%E5%AE%B6%E7%A7%91%E5%AD%A6%E5%9F%BA%E9%87%91%E4%BC%9A', '/item/%E5%9F%BA%E7%A1%80%E7%A0%94%E7%A9%B6', '/item/%E9%87%8F%E5%AD%90%E4%BF%A1%E6%81%AF%E5%AD%A6']\n",
      "量子信息学 url /item/%E9%87%8F%E5%AD%90%E4%BF%A1%E6%81%AF%E5%AD%A6\n",
      "['/item/%E7%BD%91%E7%BB%9C%E7%88%AC%E8%99%AB', '/item/%E7%BD%91%E7%BB%9C%E6%8B%93%E6%89%91', '/item/%E7%BD%91%E7%BB%9C%E6%8B%93%E6%89%91%E7%BB%93%E6%9E%84', '/item/%E5%AD%90%E7%BD%91', '/item/%E5%B9%BF%E6%92%AD%E5%9C%B0%E5%9D%80', '/item/%E7%89%A9%E7%90%86%E7%BD%91%E7%BB%9C', '/item/%E9%80%BB%E8%BE%91%E7%BD%91%E7%BB%9C', '/item/%E5%AD%90%E7%BD%91', '/item/%E7%BD%91%E7%BB%9C%E5%8F%B7', '/item/%E4%B8%93%E4%B8%9A%E7%9F%A5%E8%AF%86', '/item/%E5%9B%A0%E7%89%B9%E7%BD%91', '/item/%E7%BE%8E%E5%9B%BD%E5%9B%BD%E5%AE%B6%E7%A7%91%E5%AD%A6%E5%9F%BA%E9%87%91%E4%BC%9A', '/item/%E5%9F%BA%E7%A1%80%E7%A0%94%E7%A9%B6', '/item/%E9%87%8F%E5%AD%90%E4%BF%A1%E6%81%AF%E5%AD%A6', '/item/%E9%87%8F%E5%AD%90%E7%BA%A0%E7%BC%A0']\n",
      "量子纠缠 url /item/%E9%87%8F%E5%AD%90%E7%BA%A0%E7%BC%A0\n",
      "['/item/%E7%BD%91%E7%BB%9C%E7%88%AC%E8%99%AB', '/item/%E7%BD%91%E7%BB%9C%E6%8B%93%E6%89%91', '/item/%E7%BD%91%E7%BB%9C%E6%8B%93%E6%89%91%E7%BB%93%E6%9E%84', '/item/%E5%AD%90%E7%BD%91', '/item/%E5%B9%BF%E6%92%AD%E5%9C%B0%E5%9D%80', '/item/%E7%89%A9%E7%90%86%E7%BD%91%E7%BB%9C', '/item/%E9%80%BB%E8%BE%91%E7%BD%91%E7%BB%9C', '/item/%E5%AD%90%E7%BD%91', '/item/%E7%BD%91%E7%BB%9C%E5%8F%B7', '/item/%E4%B8%93%E4%B8%9A%E7%9F%A5%E8%AF%86', '/item/%E5%9B%A0%E7%89%B9%E7%BD%91', '/item/%E7%BE%8E%E5%9B%BD%E5%9B%BD%E5%AE%B6%E7%A7%91%E5%AD%A6%E5%9F%BA%E9%87%91%E4%BC%9A', '/item/%E5%9F%BA%E7%A1%80%E7%A0%94%E7%A9%B6', '/item/%E9%87%8F%E5%AD%90%E4%BF%A1%E6%81%AF%E5%AD%A6', '/item/%E9%87%8F%E5%AD%90%E7%BA%A0%E7%BC%A0', '/item/%E8%B6%85%E5%AF%BC']\n",
      "超导 url /item/%E8%B6%85%E5%AF%BC\n",
      "['/item/%E7%BD%91%E7%BB%9C%E7%88%AC%E8%99%AB', '/item/%E7%BD%91%E7%BB%9C%E6%8B%93%E6%89%91', '/item/%E7%BD%91%E7%BB%9C%E6%8B%93%E6%89%91%E7%BB%93%E6%9E%84', '/item/%E5%AD%90%E7%BD%91', '/item/%E5%B9%BF%E6%92%AD%E5%9C%B0%E5%9D%80', '/item/%E7%89%A9%E7%90%86%E7%BD%91%E7%BB%9C', '/item/%E9%80%BB%E8%BE%91%E7%BD%91%E7%BB%9C', '/item/%E5%AD%90%E7%BD%91', '/item/%E7%BD%91%E7%BB%9C%E5%8F%B7', '/item/%E4%B8%93%E4%B8%9A%E7%9F%A5%E8%AF%86', '/item/%E5%9B%A0%E7%89%B9%E7%BD%91', '/item/%E7%BE%8E%E5%9B%BD%E5%9B%BD%E5%AE%B6%E7%A7%91%E5%AD%A6%E5%9F%BA%E9%87%91%E4%BC%9A', '/item/%E5%9F%BA%E7%A1%80%E7%A0%94%E7%A9%B6', '/item/%E9%87%8F%E5%AD%90%E4%BF%A1%E6%81%AF%E5%AD%A6', '/item/%E9%87%8F%E5%AD%90%E7%BA%A0%E7%BC%A0', '/item/%E8%B6%85%E5%AF%BC', '/item/%E5%BC%A0%E5%B0%8F%E7%AB%A5']\n",
      "张嘉译 url /item/%E5%BC%A0%E5%B0%8F%E7%AB%A5\n",
      "['/item/%E7%BD%91%E7%BB%9C%E7%88%AC%E8%99%AB', '/item/%E7%BD%91%E7%BB%9C%E6%8B%93%E6%89%91', '/item/%E7%BD%91%E7%BB%9C%E6%8B%93%E6%89%91%E7%BB%93%E6%9E%84', '/item/%E5%AD%90%E7%BD%91', '/item/%E5%B9%BF%E6%92%AD%E5%9C%B0%E5%9D%80', '/item/%E7%89%A9%E7%90%86%E7%BD%91%E7%BB%9C', '/item/%E9%80%BB%E8%BE%91%E7%BD%91%E7%BB%9C', '/item/%E5%AD%90%E7%BD%91', '/item/%E7%BD%91%E7%BB%9C%E5%8F%B7', '/item/%E4%B8%93%E4%B8%9A%E7%9F%A5%E8%AF%86', '/item/%E5%9B%A0%E7%89%B9%E7%BD%91', '/item/%E7%BE%8E%E5%9B%BD%E5%9B%BD%E5%AE%B6%E7%A7%91%E5%AD%A6%E5%9F%BA%E9%87%91%E4%BC%9A', '/item/%E5%9F%BA%E7%A1%80%E7%A0%94%E7%A9%B6', '/item/%E9%87%8F%E5%AD%90%E4%BF%A1%E6%81%AF%E5%AD%A6', '/item/%E9%87%8F%E5%AD%90%E7%BA%A0%E7%BC%A0', '/item/%E8%B6%85%E5%AF%BC', '/item/%E5%BC%A0%E5%B0%8F%E7%AB%A5', '/item/%E6%B1%A4%E5%94%AF']\n"
     ]
    },
    {
     "name": "stdout",
     "output_type": "stream",
     "text": [
      "汤唯 url /item/%E6%B1%A4%E5%94%AF\n",
      "['/item/%E7%BD%91%E7%BB%9C%E7%88%AC%E8%99%AB', '/item/%E7%BD%91%E7%BB%9C%E6%8B%93%E6%89%91', '/item/%E7%BD%91%E7%BB%9C%E6%8B%93%E6%89%91%E7%BB%93%E6%9E%84', '/item/%E5%AD%90%E7%BD%91', '/item/%E5%B9%BF%E6%92%AD%E5%9C%B0%E5%9D%80', '/item/%E7%89%A9%E7%90%86%E7%BD%91%E7%BB%9C', '/item/%E9%80%BB%E8%BE%91%E7%BD%91%E7%BB%9C', '/item/%E5%AD%90%E7%BD%91', '/item/%E7%BD%91%E7%BB%9C%E5%8F%B7', '/item/%E4%B8%93%E4%B8%9A%E7%9F%A5%E8%AF%86', '/item/%E5%9B%A0%E7%89%B9%E7%BD%91', '/item/%E7%BE%8E%E5%9B%BD%E5%9B%BD%E5%AE%B6%E7%A7%91%E5%AD%A6%E5%9F%BA%E9%87%91%E4%BC%9A', '/item/%E5%9F%BA%E7%A1%80%E7%A0%94%E7%A9%B6', '/item/%E9%87%8F%E5%AD%90%E4%BF%A1%E6%81%AF%E5%AD%A6', '/item/%E9%87%8F%E5%AD%90%E7%BA%A0%E7%BC%A0', '/item/%E8%B6%85%E5%AF%BC', '/item/%E5%BC%A0%E5%B0%8F%E7%AB%A5', '/item/%E6%B1%A4%E5%94%AF', '/item/%E4%BA%9A%E6%B4%B2%E5%BD%B1%E8%AF%84%E4%BA%BA%E5%8D%8F%E4%BC%9A%E5%A5%96']\n",
      "亚洲影评人协会奖 url /item/%E4%BA%9A%E6%B4%B2%E5%BD%B1%E8%AF%84%E4%BA%BA%E5%8D%8F%E4%BC%9A%E5%A5%96\n",
      "['/item/%E7%BD%91%E7%BB%9C%E7%88%AC%E8%99%AB', '/item/%E7%BD%91%E7%BB%9C%E6%8B%93%E6%89%91', '/item/%E7%BD%91%E7%BB%9C%E6%8B%93%E6%89%91%E7%BB%93%E6%9E%84', '/item/%E5%AD%90%E7%BD%91', '/item/%E5%B9%BF%E6%92%AD%E5%9C%B0%E5%9D%80', '/item/%E7%89%A9%E7%90%86%E7%BD%91%E7%BB%9C', '/item/%E9%80%BB%E8%BE%91%E7%BD%91%E7%BB%9C', '/item/%E5%AD%90%E7%BD%91', '/item/%E7%BD%91%E7%BB%9C%E5%8F%B7', '/item/%E4%B8%93%E4%B8%9A%E7%9F%A5%E8%AF%86', '/item/%E5%9B%A0%E7%89%B9%E7%BD%91', '/item/%E7%BE%8E%E5%9B%BD%E5%9B%BD%E5%AE%B6%E7%A7%91%E5%AD%A6%E5%9F%BA%E9%87%91%E4%BC%9A', '/item/%E5%9F%BA%E7%A1%80%E7%A0%94%E7%A9%B6', '/item/%E9%87%8F%E5%AD%90%E4%BF%A1%E6%81%AF%E5%AD%A6', '/item/%E9%87%8F%E5%AD%90%E7%BA%A0%E7%BC%A0', '/item/%E8%B6%85%E5%AF%BC', '/item/%E5%BC%A0%E5%B0%8F%E7%AB%A5', '/item/%E6%B1%A4%E5%94%AF', '/item/%E4%BA%9A%E6%B4%B2%E5%BD%B1%E8%AF%84%E4%BA%BA%E5%8D%8F%E4%BC%9A%E5%A5%96', '/item/%E9%98%BF%E5%A1%9E%E6%8B%9C%E7%96%86']\n",
      "阿塞拜疆 url /item/%E9%98%BF%E5%A1%9E%E6%8B%9C%E7%96%86\n",
      "['/item/%E7%BD%91%E7%BB%9C%E7%88%AC%E8%99%AB', '/item/%E7%BD%91%E7%BB%9C%E6%8B%93%E6%89%91', '/item/%E7%BD%91%E7%BB%9C%E6%8B%93%E6%89%91%E7%BB%93%E6%9E%84', '/item/%E5%AD%90%E7%BD%91', '/item/%E5%B9%BF%E6%92%AD%E5%9C%B0%E5%9D%80', '/item/%E7%89%A9%E7%90%86%E7%BD%91%E7%BB%9C', '/item/%E9%80%BB%E8%BE%91%E7%BD%91%E7%BB%9C', '/item/%E5%AD%90%E7%BD%91', '/item/%E7%BD%91%E7%BB%9C%E5%8F%B7', '/item/%E4%B8%93%E4%B8%9A%E7%9F%A5%E8%AF%86', '/item/%E5%9B%A0%E7%89%B9%E7%BD%91', '/item/%E7%BE%8E%E5%9B%BD%E5%9B%BD%E5%AE%B6%E7%A7%91%E5%AD%A6%E5%9F%BA%E9%87%91%E4%BC%9A', '/item/%E5%9F%BA%E7%A1%80%E7%A0%94%E7%A9%B6', '/item/%E9%87%8F%E5%AD%90%E4%BF%A1%E6%81%AF%E5%AD%A6', '/item/%E9%87%8F%E5%AD%90%E7%BA%A0%E7%BC%A0', '/item/%E8%B6%85%E5%AF%BC', '/item/%E5%BC%A0%E5%B0%8F%E7%AB%A5', '/item/%E6%B1%A4%E5%94%AF', '/item/%E4%BA%9A%E6%B4%B2%E5%BD%B1%E8%AF%84%E4%BA%BA%E5%8D%8F%E4%BC%9A%E5%A5%96', '/item/%E9%98%BF%E5%A1%9E%E6%8B%9C%E7%96%86', '/item/%E6%A3%80%E5%AF%9F%E6%9C%BA%E5%85%B3']\n"
     ]
    }
   ],
   "source": [
    "his = [\"/item/%E7%BD%91%E7%BB%9C%E7%88%AC%E8%99%AB\"]\n",
    "\n",
    "for spider in range(20):\n",
    "    url = base_url +his[-1]\n",
    "    \n",
    "    html = urlopen(url).read().decode('utf-8')\n",
    "    soup = BeautifulSoup(html,features='lxml')\n",
    "    print(soup.find('h1').get_text(),'url',his[-1])\n",
    "    \n",
    "    sub_urls=soup.find_all('a',{'target':'_blank','href':re.compile('/item/(%.{2})+$')})\n",
    "    \n",
    "    if len(sub_urls)!=0:\n",
    "        his.append(random.sample(sub_urls,1)[0][\"href\"])\n",
    "    else:\n",
    "    # no valid sub link found\n",
    "        his.pop()\n",
    "    print(his)"
   ]
  },
  {
   "cell_type": "code",
   "execution_count": null,
   "metadata": {},
   "outputs": [],
   "source": []
  },
  {
   "cell_type": "code",
   "execution_count": null,
   "metadata": {},
   "outputs": [],
   "source": []
  }
 ],
 "metadata": {
  "kernelspec": {
   "display_name": "Python 3",
   "language": "python",
   "name": "python3"
  },
  "language_info": {
   "codemirror_mode": {
    "name": "ipython",
    "version": 3
   },
   "file_extension": ".py",
   "mimetype": "text/x-python",
   "name": "python",
   "nbconvert_exporter": "python",
   "pygments_lexer": "ipython3",
   "version": "3.6.8"
  }
 },
 "nbformat": 4,
 "nbformat_minor": 2
}
