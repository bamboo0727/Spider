{
 "cells": [
  {
   "cell_type": "code",
   "execution_count": 1,
   "metadata": {},
   "outputs": [],
   "source": [
    "from bs4 import BeautifulSoup\n",
    "import requests\n",
    "\n",
    "URL='http://www.ngchina.com.cn/animals/'"
   ]
  },
  {
   "cell_type": "code",
   "execution_count": 8,
   "metadata": {},
   "outputs": [
    {
     "name": "stdout",
     "output_type": "stream",
     "text": [
      "[<ul class=\"img_list\">\n",
      "<li class=\"mod_w\">\n",
      "<div class=\"imgs cf\">\n",
      "<a href=\"/animals/protection/9171.html\"><img src=\"http://image.ngchina.com.cn/2019/0619/20190619050323423.jpg\"/></a>\n",
      "</div>\n",
      "</li>\n",
      "<li class=\"mod_w\">\n",
      "<div class=\"imgs cf\">\n",
      "<a href=\"/animals/facts/9170.html\"><img src=\"http://image.ngchina.com.cn/2019/0619/20190619110327252.jpg\"/></a>\n",
      "</div>\n",
      "</li>\n",
      "<li class=\"mod_w\">\n",
      "<div class=\"imgs cf\">\n",
      "<a href=\"/animals/facts/9168.html\"><img src=\"http://image.ngchina.com.cn/2019/0617/20190617122525336.jpg\"/></a>\n",
      "</div>\n",
      "</li>\n",
      "</ul>, <ul class=\"img_list\">\n",
      "<li class=\"mod_w\">\n",
      "<div class=\"imgs cf\">\n",
      "<a href=\"/animals/facts/9163.html\"><img src=\"http://image.ngchina.com.cn/2019/0613/20190613110819271.jpg\"/></a>\n",
      "</div>\n",
      "</li>\n",
      "<li class=\"mod_w\">\n",
      "<div class=\"imgs cf\">\n",
      "<a href=\"/animals/facts/9162.html\"><img src=\"http://image.ngchina.com.cn/2019/0612/20190612025400849.jpg\"/></a>\n",
      "</div>\n",
      "</li>\n",
      "<li class=\"mod_w\">\n",
      "<div class=\"imgs cf\">\n",
      "<a href=\"/animals/facts/9161.html\"><img src=\"http://image.ngchina.com.cn/2019/0612/20190612104434518.jpg\"/></a>\n",
      "</div>\n",
      "</li>\n",
      "</ul>]\n"
     ]
    }
   ],
   "source": [
    "html=requests.get(URL).text\n",
    "soup = BeautifulSoup(html,'lxml')\n",
    "img_ul = soup.find_all('ul' , {'class':\"img_list\"})\n",
    "print(img_ul)"
   ]
  },
  {
   "cell_type": "code",
   "execution_count": 19,
   "metadata": {},
   "outputs": [
    {
     "name": "stdout",
     "output_type": "stream",
     "text": [
      "http://image.ngchina.com.cn/2019/0619/20190619050323423.jpg\n",
      "Saved 20190619050323423.jpg\n",
      "http://image.ngchina.com.cn/2019/0619/20190619110327252.jpg\n",
      "Saved 20190619110327252.jpg\n",
      "http://image.ngchina.com.cn/2019/0617/20190617122525336.jpg\n",
      "Saved 20190617122525336.jpg\n",
      "http://image.ngchina.com.cn/2019/0613/20190613110819271.jpg\n",
      "Saved 20190613110819271.jpg\n",
      "http://image.ngchina.com.cn/2019/0612/20190612025400849.jpg\n",
      "Saved 20190612025400849.jpg\n",
      "http://image.ngchina.com.cn/2019/0612/20190612104434518.jpg\n",
      "Saved 20190612104434518.jpg\n"
     ]
    }
   ],
   "source": [
    "for ul in img_ul:\n",
    "    imgs = ul.find_all('img')\n",
    "    #print(imgs)\n",
    "    for img in imgs:\n",
    "        url=img['src']\n",
    "        print(url)\n",
    "        r = requests.get(url, stream=True)\n",
    "        image_name = url.split('/')[-1]\n",
    "        with open('./img/%s' % image_name, 'wb') as f:\n",
    "            for chunk in r.iter_content(chunk_size=128):\n",
    "                f.write(chunk)\n",
    "        print('Saved %s' % image_name)"
   ]
  },
  {
   "cell_type": "code",
   "execution_count": null,
   "metadata": {},
   "outputs": [],
   "source": []
  }
 ],
 "metadata": {
  "kernelspec": {
   "display_name": "Python 3",
   "language": "python",
   "name": "python3"
  },
  "language_info": {
   "codemirror_mode": {
    "name": "ipython",
    "version": 3
   },
   "file_extension": ".py",
   "mimetype": "text/x-python",
   "name": "python",
   "nbconvert_exporter": "python",
   "pygments_lexer": "ipython3",
   "version": "3.6.8"
  }
 },
 "nbformat": 4,
 "nbformat_minor": 2
}
